{
 "cells": [
  {
   "cell_type": "markdown",
   "id": "22761301",
   "metadata": {},
   "source": [
    "Raged abou"
   ]
  },
  {
   "cell_type": "markdown",
   "id": "17139204",
   "metadata": {},
   "source": [
    "We have been asked to use our hypothesis testing skills to answer the following questions:\n",
    "\n",
    "- Q1. Do smokers have higher insurance charges than non-smokers?\n",
    "- Q2. Are men more likely to smoke than women?\n",
    "- Q3. Do different regions have different charges, on average?"
   ]
  },
  {
   "cell_type": "code",
   "execution_count": 1,
   "id": "a4ca6365",
   "metadata": {},
   "outputs": [],
   "source": [
    "import pandas as pd\n",
    "import numpy as np\n",
    "import scipy.stats as stats\n",
    "import matplotlib.pyplot as plt\n",
    "import seaborn as sns"
   ]
  },
  {
   "cell_type": "code",
   "execution_count": 2,
   "id": "1d8d61ba",
   "metadata": {},
   "outputs": [
    {
     "data": {
      "text/html": [
       "<div>\n",
       "<style scoped>\n",
       "    .dataframe tbody tr th:only-of-type {\n",
       "        vertical-align: middle;\n",
       "    }\n",
       "\n",
       "    .dataframe tbody tr th {\n",
       "        vertical-align: top;\n",
       "    }\n",
       "\n",
       "    .dataframe thead th {\n",
       "        text-align: right;\n",
       "    }\n",
       "</style>\n",
       "<table border=\"1\" class=\"dataframe\">\n",
       "  <thead>\n",
       "    <tr style=\"text-align: right;\">\n",
       "      <th></th>\n",
       "      <th>age</th>\n",
       "      <th>sex</th>\n",
       "      <th>bmi</th>\n",
       "      <th>children</th>\n",
       "      <th>smoker</th>\n",
       "      <th>region</th>\n",
       "      <th>charges</th>\n",
       "    </tr>\n",
       "  </thead>\n",
       "  <tbody>\n",
       "    <tr>\n",
       "      <th>0</th>\n",
       "      <td>19</td>\n",
       "      <td>female</td>\n",
       "      <td>27.900</td>\n",
       "      <td>0</td>\n",
       "      <td>yes</td>\n",
       "      <td>southwest</td>\n",
       "      <td>16884.92400</td>\n",
       "    </tr>\n",
       "    <tr>\n",
       "      <th>1</th>\n",
       "      <td>18</td>\n",
       "      <td>male</td>\n",
       "      <td>33.770</td>\n",
       "      <td>1</td>\n",
       "      <td>no</td>\n",
       "      <td>southeast</td>\n",
       "      <td>1725.55230</td>\n",
       "    </tr>\n",
       "    <tr>\n",
       "      <th>2</th>\n",
       "      <td>28</td>\n",
       "      <td>male</td>\n",
       "      <td>33.000</td>\n",
       "      <td>3</td>\n",
       "      <td>no</td>\n",
       "      <td>southeast</td>\n",
       "      <td>4449.46200</td>\n",
       "    </tr>\n",
       "    <tr>\n",
       "      <th>3</th>\n",
       "      <td>33</td>\n",
       "      <td>male</td>\n",
       "      <td>22.705</td>\n",
       "      <td>0</td>\n",
       "      <td>no</td>\n",
       "      <td>northwest</td>\n",
       "      <td>21984.47061</td>\n",
       "    </tr>\n",
       "    <tr>\n",
       "      <th>4</th>\n",
       "      <td>32</td>\n",
       "      <td>male</td>\n",
       "      <td>28.880</td>\n",
       "      <td>0</td>\n",
       "      <td>no</td>\n",
       "      <td>northwest</td>\n",
       "      <td>3866.85520</td>\n",
       "    </tr>\n",
       "  </tbody>\n",
       "</table>\n",
       "</div>"
      ],
      "text/plain": [
       "   age     sex     bmi  children smoker     region      charges\n",
       "0   19  female  27.900         0    yes  southwest  16884.92400\n",
       "1   18    male  33.770         1     no  southeast   1725.55230\n",
       "2   28    male  33.000         3     no  southeast   4449.46200\n",
       "3   33    male  22.705         0     no  northwest  21984.47061\n",
       "4   32    male  28.880         0     no  northwest   3866.85520"
      ]
     },
     "execution_count": 2,
     "metadata": {},
     "output_type": "execute_result"
    }
   ],
   "source": [
    "url =\"https://docs.google.com/spreadsheets/d/e/2PACX-1vQBN8DPW2rdiRrY34eEM53HAzakNGSRrw4ogI-j8HyCUrbqTB_z4CeIn2IvjLF-w_6sOe5pIlypJGAA/pub?output=csv\"\n",
    "df = pd.read_csv(url)\n",
    "df.head()"
   ]
  },
  {
   "cell_type": "markdown",
   "id": "17c7da69",
   "metadata": {},
   "source": [
    "Question 1:\n",
    "Do smokers have higher insurance charges than non-smokers?\n",
    "\n",
    "Hypothesis\n",
    "Null Hypothesis : Smokers do not have a higher insurance charges than non-smokers.\n",
    "\n",
    "Alternate Hypothesis: Smokers have a higher insurance charges than non smokers\n",
    "\n",
    "Type of data: Numeric\n",
    "\n",
    "Number of groups: 2\n",
    "\n",
    "Selected test: Independent T-Test (2-samples)\n",
    "\n",
    "Seperating groups"
   ]
  },
  {
   "cell_type": "code",
   "execution_count": 3,
   "id": "225a5c03",
   "metadata": {},
   "outputs": [
    {
     "data": {
      "text/html": [
       "<div>\n",
       "<style scoped>\n",
       "    .dataframe tbody tr th:only-of-type {\n",
       "        vertical-align: middle;\n",
       "    }\n",
       "\n",
       "    .dataframe tbody tr th {\n",
       "        vertical-align: top;\n",
       "    }\n",
       "\n",
       "    .dataframe thead th {\n",
       "        text-align: right;\n",
       "    }\n",
       "</style>\n",
       "<table border=\"1\" class=\"dataframe\">\n",
       "  <thead>\n",
       "    <tr style=\"text-align: right;\">\n",
       "      <th></th>\n",
       "      <th>charges</th>\n",
       "      <th>smoker</th>\n",
       "    </tr>\n",
       "  </thead>\n",
       "  <tbody>\n",
       "    <tr>\n",
       "      <th>0</th>\n",
       "      <td>16884.92400</td>\n",
       "      <td>yes</td>\n",
       "    </tr>\n",
       "    <tr>\n",
       "      <th>11</th>\n",
       "      <td>27808.72510</td>\n",
       "      <td>yes</td>\n",
       "    </tr>\n",
       "    <tr>\n",
       "      <th>14</th>\n",
       "      <td>39611.75770</td>\n",
       "      <td>yes</td>\n",
       "    </tr>\n",
       "    <tr>\n",
       "      <th>19</th>\n",
       "      <td>36837.46700</td>\n",
       "      <td>yes</td>\n",
       "    </tr>\n",
       "    <tr>\n",
       "      <th>23</th>\n",
       "      <td>37701.87680</td>\n",
       "      <td>yes</td>\n",
       "    </tr>\n",
       "    <tr>\n",
       "      <th>...</th>\n",
       "      <td>...</td>\n",
       "      <td>...</td>\n",
       "    </tr>\n",
       "    <tr>\n",
       "      <th>1313</th>\n",
       "      <td>36397.57600</td>\n",
       "      <td>yes</td>\n",
       "    </tr>\n",
       "    <tr>\n",
       "      <th>1314</th>\n",
       "      <td>18765.87545</td>\n",
       "      <td>yes</td>\n",
       "    </tr>\n",
       "    <tr>\n",
       "      <th>1321</th>\n",
       "      <td>28101.33305</td>\n",
       "      <td>yes</td>\n",
       "    </tr>\n",
       "    <tr>\n",
       "      <th>1323</th>\n",
       "      <td>43896.37630</td>\n",
       "      <td>yes</td>\n",
       "    </tr>\n",
       "    <tr>\n",
       "      <th>1337</th>\n",
       "      <td>29141.36030</td>\n",
       "      <td>yes</td>\n",
       "    </tr>\n",
       "  </tbody>\n",
       "</table>\n",
       "<p>274 rows × 2 columns</p>\n",
       "</div>"
      ],
      "text/plain": [
       "          charges smoker\n",
       "0     16884.92400    yes\n",
       "11    27808.72510    yes\n",
       "14    39611.75770    yes\n",
       "19    36837.46700    yes\n",
       "23    37701.87680    yes\n",
       "...           ...    ...\n",
       "1313  36397.57600    yes\n",
       "1314  18765.87545    yes\n",
       "1321  28101.33305    yes\n",
       "1323  43896.37630    yes\n",
       "1337  29141.36030    yes\n",
       "\n",
       "[274 rows x 2 columns]"
      ]
     },
     "execution_count": 3,
     "metadata": {},
     "output_type": "execute_result"
    }
   ],
   "source": [
    "smoker_df = df.loc[df[\"smoker\"]==\"yes\", [\"charges\",\"smoker\"]]\n",
    "smoker_df"
   ]
  },
  {
   "cell_type": "code",
   "execution_count": 4,
   "id": "26677fc4",
   "metadata": {},
   "outputs": [
    {
     "data": {
      "text/html": [
       "<div>\n",
       "<style scoped>\n",
       "    .dataframe tbody tr th:only-of-type {\n",
       "        vertical-align: middle;\n",
       "    }\n",
       "\n",
       "    .dataframe tbody tr th {\n",
       "        vertical-align: top;\n",
       "    }\n",
       "\n",
       "    .dataframe thead th {\n",
       "        text-align: right;\n",
       "    }\n",
       "</style>\n",
       "<table border=\"1\" class=\"dataframe\">\n",
       "  <thead>\n",
       "    <tr style=\"text-align: right;\">\n",
       "      <th></th>\n",
       "      <th>charges</th>\n",
       "      <th>smoker</th>\n",
       "    </tr>\n",
       "  </thead>\n",
       "  <tbody>\n",
       "    <tr>\n",
       "      <th>1</th>\n",
       "      <td>1725.55230</td>\n",
       "      <td>no</td>\n",
       "    </tr>\n",
       "    <tr>\n",
       "      <th>2</th>\n",
       "      <td>4449.46200</td>\n",
       "      <td>no</td>\n",
       "    </tr>\n",
       "    <tr>\n",
       "      <th>3</th>\n",
       "      <td>21984.47061</td>\n",
       "      <td>no</td>\n",
       "    </tr>\n",
       "    <tr>\n",
       "      <th>4</th>\n",
       "      <td>3866.85520</td>\n",
       "      <td>no</td>\n",
       "    </tr>\n",
       "    <tr>\n",
       "      <th>5</th>\n",
       "      <td>3756.62160</td>\n",
       "      <td>no</td>\n",
       "    </tr>\n",
       "    <tr>\n",
       "      <th>...</th>\n",
       "      <td>...</td>\n",
       "      <td>...</td>\n",
       "    </tr>\n",
       "    <tr>\n",
       "      <th>1332</th>\n",
       "      <td>11411.68500</td>\n",
       "      <td>no</td>\n",
       "    </tr>\n",
       "    <tr>\n",
       "      <th>1333</th>\n",
       "      <td>10600.54830</td>\n",
       "      <td>no</td>\n",
       "    </tr>\n",
       "    <tr>\n",
       "      <th>1334</th>\n",
       "      <td>2205.98080</td>\n",
       "      <td>no</td>\n",
       "    </tr>\n",
       "    <tr>\n",
       "      <th>1335</th>\n",
       "      <td>1629.83350</td>\n",
       "      <td>no</td>\n",
       "    </tr>\n",
       "    <tr>\n",
       "      <th>1336</th>\n",
       "      <td>2007.94500</td>\n",
       "      <td>no</td>\n",
       "    </tr>\n",
       "  </tbody>\n",
       "</table>\n",
       "<p>1064 rows × 2 columns</p>\n",
       "</div>"
      ],
      "text/plain": [
       "          charges smoker\n",
       "1      1725.55230     no\n",
       "2      4449.46200     no\n",
       "3     21984.47061     no\n",
       "4      3866.85520     no\n",
       "5      3756.62160     no\n",
       "...           ...    ...\n",
       "1332  11411.68500     no\n",
       "1333  10600.54830     no\n",
       "1334   2205.98080     no\n",
       "1335   1629.83350     no\n",
       "1336   2007.94500     no\n",
       "\n",
       "[1064 rows x 2 columns]"
      ]
     },
     "execution_count": 4,
     "metadata": {},
     "output_type": "execute_result"
    }
   ],
   "source": [
    "non_smoker_df = df.loc[df[\"smoker\"]==\"no\", [\"charges\",\"smoker\"]]\n",
    "non_smoker_df"
   ]
  },
  {
   "cell_type": "code",
   "execution_count": 5,
   "id": "b8a344e9",
   "metadata": {},
   "outputs": [
    {
     "data": {
      "text/html": [
       "<div>\n",
       "<style scoped>\n",
       "    .dataframe tbody tr th:only-of-type {\n",
       "        vertical-align: middle;\n",
       "    }\n",
       "\n",
       "    .dataframe tbody tr th {\n",
       "        vertical-align: top;\n",
       "    }\n",
       "\n",
       "    .dataframe thead th {\n",
       "        text-align: right;\n",
       "    }\n",
       "</style>\n",
       "<table border=\"1\" class=\"dataframe\">\n",
       "  <thead>\n",
       "    <tr style=\"text-align: right;\">\n",
       "      <th></th>\n",
       "      <th>charges</th>\n",
       "      <th>smoker</th>\n",
       "    </tr>\n",
       "  </thead>\n",
       "  <tbody>\n",
       "    <tr>\n",
       "      <th>0</th>\n",
       "      <td>16884.9240</td>\n",
       "      <td>yes</td>\n",
       "    </tr>\n",
       "    <tr>\n",
       "      <th>11</th>\n",
       "      <td>27808.7251</td>\n",
       "      <td>yes</td>\n",
       "    </tr>\n",
       "    <tr>\n",
       "      <th>14</th>\n",
       "      <td>39611.7577</td>\n",
       "      <td>yes</td>\n",
       "    </tr>\n",
       "    <tr>\n",
       "      <th>19</th>\n",
       "      <td>36837.4670</td>\n",
       "      <td>yes</td>\n",
       "    </tr>\n",
       "    <tr>\n",
       "      <th>23</th>\n",
       "      <td>37701.8768</td>\n",
       "      <td>yes</td>\n",
       "    </tr>\n",
       "    <tr>\n",
       "      <th>...</th>\n",
       "      <td>...</td>\n",
       "      <td>...</td>\n",
       "    </tr>\n",
       "    <tr>\n",
       "      <th>1332</th>\n",
       "      <td>11411.6850</td>\n",
       "      <td>no</td>\n",
       "    </tr>\n",
       "    <tr>\n",
       "      <th>1333</th>\n",
       "      <td>10600.5483</td>\n",
       "      <td>no</td>\n",
       "    </tr>\n",
       "    <tr>\n",
       "      <th>1334</th>\n",
       "      <td>2205.9808</td>\n",
       "      <td>no</td>\n",
       "    </tr>\n",
       "    <tr>\n",
       "      <th>1335</th>\n",
       "      <td>1629.8335</td>\n",
       "      <td>no</td>\n",
       "    </tr>\n",
       "    <tr>\n",
       "      <th>1336</th>\n",
       "      <td>2007.9450</td>\n",
       "      <td>no</td>\n",
       "    </tr>\n",
       "  </tbody>\n",
       "</table>\n",
       "<p>1338 rows × 2 columns</p>\n",
       "</div>"
      ],
      "text/plain": [
       "         charges smoker\n",
       "0     16884.9240    yes\n",
       "11    27808.7251    yes\n",
       "14    39611.7577    yes\n",
       "19    36837.4670    yes\n",
       "23    37701.8768    yes\n",
       "...          ...    ...\n",
       "1332  11411.6850     no\n",
       "1333  10600.5483     no\n",
       "1334   2205.9808     no\n",
       "1335   1629.8335     no\n",
       "1336   2007.9450     no\n",
       "\n",
       "[1338 rows x 2 columns]"
      ]
     },
     "execution_count": 5,
     "metadata": {},
     "output_type": "execute_result"
    }
   ],
   "source": [
    "plot_df = pd.concat([smoker_df, non_smoker_df],)\n",
    "plot_df"
   ]
  },
  {
   "cell_type": "code",
   "execution_count": 6,
   "id": "10797ed8",
   "metadata": {},
   "outputs": [
    {
     "data": {
      "text/plain": [
       "<matplotlib.axes._subplots.AxesSubplot at 0x209a54a8608>"
      ]
     },
     "execution_count": 6,
     "metadata": {},
     "output_type": "execute_result"
    },
    {
     "data": {
      "image/png": "[encoded data removed]",
      "text/plain": [
       "<Figure size 432x288 with 1 Axes>"
      ]
     },
     "metadata": {
      "needs_background": "light"
     },
     "output_type": "display_data"
    }
   ],
   "source": [
    "sns.barplot(data =plot_df, x =\"smoker\", y =\"charges\", ci=68)"
   ]
  },
  {
   "cell_type": "code",
   "execution_count": 7,
   "id": "0184ae8e",
   "metadata": {},
   "outputs": [],
   "source": [
    "smoker_group = smoker_df[\"charges\"]\n",
    "non_smoker_group = non_smoker_df[\"charges\"]"
   ]
  },
  {
   "cell_type": "code",
   "execution_count": 8,
   "id": "71ca6e36",
   "metadata": {},
   "outputs": [
    {
     "data": {
      "text/plain": [
       "0"
      ]
     },
     "execution_count": 8,
     "metadata": {},
     "output_type": "execute_result"
    }
   ],
   "source": [
    "smoker_outlier = np.abs(stats.zscore(smoker_group))>3\n",
    "smoker_outlier.sum()"
   ]
  },
  {
   "cell_type": "code",
   "execution_count": 9,
   "id": "58e1449b",
   "metadata": {},
   "outputs": [
    {
     "data": {
      "text/plain": [
       "24"
      ]
     },
     "execution_count": 9,
     "metadata": {},
     "output_type": "execute_result"
    }
   ],
   "source": [
    "non_smoker_outlier = np.abs(stats.zscore(non_smoker_group))>3\n",
    "non_smoker_outlier.sum()"
   ]
  },
  {
   "cell_type": "code",
   "execution_count": 10,
   "id": "a8357945",
   "metadata": {},
   "outputs": [
    {
     "data": {
      "text/plain": [
       "1        1725.55230\n",
       "2        4449.46200\n",
       "3       21984.47061\n",
       "4        3866.85520\n",
       "5        3756.62160\n",
       "           ...     \n",
       "1332    11411.68500\n",
       "1333    10600.54830\n",
       "1334     2205.98080\n",
       "1335     1629.83350\n",
       "1336     2007.94500\n",
       "Name: charges, Length: 1040, dtype: float64"
      ]
     },
     "execution_count": 10,
     "metadata": {},
     "output_type": "execute_result"
    }
   ],
   "source": [
    "non_smoker_group =non_smoker_group.loc[~non_smoker_outlier]\n",
    "non_smoker_group"
   ]
  },
  {
   "cell_type": "code",
   "execution_count": 11,
   "id": "c561d3f3",
   "metadata": {},
   "outputs": [
    {
     "name": "stdout",
     "output_type": "stream",
     "text": [
      "p-value =5.564930630036463e-14\n",
      "\n",
      "less than the alpha\n"
     ]
    }
   ],
   "source": [
    "alpha =0.05\n",
    "p = stats.normaltest(smoker_group)\n",
    "print(f'p-value ={p.pvalue}')\n",
    "\n",
    "#Is the result-value less than 0.05?\n",
    "if p.pvalue < alpha:\n",
    "    print(\"\\nless than the alpha\")\n",
    "else: \n",
    "    print(\" greater than the alpha\")"
   ]
  },
  {
   "cell_type": "code",
   "execution_count": 12,
   "id": "ce8512ba",
   "metadata": {},
   "outputs": [
    {
     "name": "stdout",
     "output_type": "stream",
     "text": [
      " p-value = 2.4247238784347824e-97\n",
      "\n",
      "The groups do NOT have equal variance\n"
     ]
    }
   ],
   "source": [
    "result = stats.levene(smoker_group, non_smoker_group)\n",
    "print(f' p-value = {result.pvalue}')\n",
    "if result.pvalue < alpha:\n",
    "    print(\"\\nThe groups do NOT have equal variance\")\n",
    "else:\n",
    "     print(\"\\nThe groups DO have equal variance\")"
   ]
  },
  {
   "cell_type": "code",
   "execution_count": 13,
   "id": "3ae831ad",
   "metadata": {},
   "outputs": [
    {
     "name": "stdout",
     "output_type": "stream",
     "text": [
      "2.575322662587431e-104\n",
      "\n",
      "The p-value is < 0.05 \n",
      "Therefore we reject the null hypothesis and support the alternative hypothesis\n"
     ]
    }
   ],
   "source": [
    "result =stats.ttest_ind(smoker_group, non_smoker_group, equal_var =False)\n",
    "print(result.pvalue)\n",
    "if result.pvalue < alpha:\n",
    "    print(\"\\nThe p-value is < 0.05 \\nTherefore we reject the null hypothesis and support the alternative hypothesis\")\n",
    "else:\n",
    "     print(\"\\nThe p-value is> 0.05 \\nTherefore we do not reject the null hypothesis\")"
   ]
  },
  {
   "cell_type": "markdown",
   "id": "7167354b",
   "metadata": {},
   "source": [
    "Conclusion:\n",
    " We reject the null hypothesis and support the alternative that groups with smokers receive higher charges for the insurance"
   ]
  },
  {
   "cell_type": "markdown",
   "id": "14ed0dd4",
   "metadata": {},
   "source": [
    "Question 2:\n",
    "Are men more likely to smoke than women?\n",
    "\n",
    "Hypothesis\n",
    "Null Hypothesis : Men are NOT more likely to smoke than women.\n",
    "\n",
    "Alternate Hypothesis: Men more likely to smoke than women\n",
    "\n",
    "Type of data: Categorical\n",
    "\n",
    "Number of groups/samples: 2\n",
    "\n",
    "Selected test: Chi Square Test"
   ]
  },
  {
   "cell_type": "code",
   "execution_count": 14,
   "id": "f9ecea99",
   "metadata": {},
   "outputs": [
    {
     "data": {
      "text/plain": [
       "sex     smoker\n",
       "female  yes       115\n",
       "dtype: int64"
      ]
     },
     "execution_count": 14,
     "metadata": {},
     "output_type": "execute_result"
    }
   ],
   "source": [
    "female_smoker = df.loc[df[\"sex\"]==\"female\", [\"sex\",\"smoker\"]]\n",
    "femalesmoker_group =female_smoker.loc[female_smoker[\"smoker\"]==\"yes\"]\n",
    "femalesmoker_group.value_counts()"
   ]
  },
  {
   "cell_type": "code",
   "execution_count": 15,
   "id": "4fe97815",
   "metadata": {},
   "outputs": [
    {
     "data": {
      "text/plain": [
       "sex   smoker\n",
       "male  yes       159\n",
       "dtype: int64"
      ]
     },
     "execution_count": 15,
     "metadata": {},
     "output_type": "execute_result"
    }
   ],
   "source": [
    "male_smoker = df.loc[df[\"sex\"]==\"male\", [\"sex\",\"smoker\"]]\n",
    "malesmoker_group = male_smoker.loc[male_smoker[\"smoker\"]==\"yes\"]\n",
    "malesmoker_group.value_counts()"
   ]
  },
  {
   "cell_type": "code",
   "execution_count": 16,
   "id": "6d4c38c0",
   "metadata": {},
   "outputs": [
    {
     "data": {
      "image/png": "[encoded data removed]",
      "text/plain": [
       "<Figure size 432x288 with 1 Axes>"
      ]
     },
     "metadata": {
      "needs_background": "light"
     },
     "output_type": "display_data"
    }
   ],
   "source": [
    "ax=sns.countplot(data=df, x='sex',hue='smoker',)\n",
    "ax.set_title(\"Number of Smokers by Sex\");"
   ]
  },
  {
   "cell_type": "code",
   "execution_count": 17,
   "id": "24c8efaa",
   "metadata": {},
   "outputs": [
    {
     "data": {
      "text/html": [
       "<div>\n",
       "<style scoped>\n",
       "    .dataframe tbody tr th:only-of-type {\n",
       "        vertical-align: middle;\n",
       "    }\n",
       "\n",
       "    .dataframe tbody tr th {\n",
       "        vertical-align: top;\n",
       "    }\n",
       "\n",
       "    .dataframe thead th {\n",
       "        text-align: right;\n",
       "    }\n",
       "</style>\n",
       "<table border=\"1\" class=\"dataframe\">\n",
       "  <thead>\n",
       "    <tr style=\"text-align: right;\">\n",
       "      <th>smoker</th>\n",
       "      <th>no</th>\n",
       "      <th>yes</th>\n",
       "    </tr>\n",
       "    <tr>\n",
       "      <th>sex</th>\n",
       "      <th></th>\n",
       "      <th></th>\n",
       "    </tr>\n",
       "  </thead>\n",
       "  <tbody>\n",
       "    <tr>\n",
       "      <th>female</th>\n",
       "      <td>547</td>\n",
       "      <td>115</td>\n",
       "    </tr>\n",
       "    <tr>\n",
       "      <th>male</th>\n",
       "      <td>517</td>\n",
       "      <td>159</td>\n",
       "    </tr>\n",
       "  </tbody>\n",
       "</table>\n",
       "</div>"
      ],
      "text/plain": [
       "smoker   no  yes\n",
       "sex             \n",
       "female  547  115\n",
       "male    517  159"
      ]
     },
     "execution_count": 17,
     "metadata": {},
     "output_type": "execute_result"
    }
   ],
   "source": [
    "new_df = pd.crosstab(df['sex'], df['smoker'])\n",
    "new_df"
   ]
  },
  {
   "cell_type": "code",
   "execution_count": 18,
   "id": "62841c1c",
   "metadata": {},
   "outputs": [],
   "source": [
    "# Run the Test and Save the Output\n",
    "result = stats.chi2_contingency(new_df)\n",
    "chi2, p, deg_free, expected_vals = result #this labels the results"
   ]
  },
  {
   "cell_type": "code",
   "execution_count": 19,
   "id": "baf18666",
   "metadata": {},
   "outputs": [
    {
     "name": "stdout",
     "output_type": "stream",
     "text": [
      "0.006548143503580696\n",
      "\n",
      "The p-value is < 0.05 \n",
      "Therefore we reject the null hypothesis \n",
      "and support the alternative hypothesis\n"
     ]
    }
   ],
   "source": [
    "print(p)\n",
    "p<.05\n",
    "\n",
    "if p < alpha:\n",
    "    print(\"\\nThe p-value is < 0.05 \\nTherefore we reject the null hypothesis \\nand support the alternative hypothesis\")\n",
    "else:\n",
    "     print(\"\\nThe p-value is> 0.05 \\nTherefore we do not reject the null hypothesis\")"
   ]
  },
  {
   "cell_type": "markdown",
   "id": "117a8815",
   "metadata": {},
   "source": [
    "3. Do different regions have different charges, on average?\n",
    "\n",
    "null hypothesis\n",
    "No significant difference in charges exists between regions.\n",
    "\n",
    "alternative hypothesis\n",
    "there is a significant difference in charges exists between regions."
   ]
  },
  {
   "cell_type": "markdown",
   "id": "66f516d5",
   "metadata": {},
   "source": [
    "Number of Samples/Groups being compared\n",
    "\n",
    "more than 2\n",
    "\n",
    "\n",
    "correct test \n",
    "\n",
    "\n",
    "ANOVA\n",
    "\n",
    "\n"
   ]
  },
  {
   "cell_type": "code",
   "execution_count": 20,
   "id": "b0619388",
   "metadata": {},
   "outputs": [
    {
     "data": {
      "text/plain": [
       "dict_keys(['southwest', 'southeast', 'northwest', 'northeast'])"
      ]
     },
     "execution_count": 20,
     "metadata": {},
     "output_type": "execute_result"
    }
   ],
   "source": [
    "groups = {}\n",
    "for region in df['region'].unique():\n",
    "    temp_df = df.loc[df['region'] == region, 'charges']\n",
    "    groups[region] = temp_df\n",
    "groups.keys()"
   ]
  },
  {
   "cell_type": "code",
   "execution_count": 21,
   "id": "d4e6ef4c",
   "metadata": {},
   "outputs": [
    {
     "name": "stdout",
     "output_type": "stream",
     "text": [
      "8 outliers were removed from the southwest group.\n",
      "2 outliers were removed from the southeast group.\n",
      "7 outliers were removed from the northwest group.\n",
      "4 outliers were removed from the northeast group.\n"
     ]
    }
   ],
   "source": [
    "\n",
    "for region, data in groups.items():\n",
    "    # Calculate the number of outliers\n",
    "    outliers = np.abs(stats.zscore(data)) > 3\n",
    "    print(f\"{outliers.sum()} outliers were removed from the {region} group.\")\n",
    "    # Remove the outliers\n",
    "    groups[region] = data.loc[~outliers]"
   ]
  },
  {
   "cell_type": "code",
   "execution_count": 28,
   "id": "840f584b",
   "metadata": {},
   "outputs": [],
   "source": [
    "norm_results = {}\n",
    "for i, data in groups.items():\n",
    "    stat, p = stats.normaltest(data)\n",
    "    norm_results[i] = {'n': len(data),\n",
    "                       'p':p}"
   ]
  },
  {
   "cell_type": "code",
   "execution_count": 27,
   "id": "b872fe74",
   "metadata": {},
   "outputs": [
    {
     "data": {
      "text/html": [
       "<div>\n",
       "<style scoped>\n",
       "    .dataframe tbody tr th:only-of-type {\n",
       "        vertical-align: middle;\n",
       "    }\n",
       "\n",
       "    .dataframe tbody tr th {\n",
       "        vertical-align: top;\n",
       "    }\n",
       "\n",
       "    .dataframe thead th {\n",
       "        text-align: right;\n",
       "    }\n",
       "</style>\n",
       "<table border=\"1\" class=\"dataframe\">\n",
       "  <thead>\n",
       "    <tr style=\"text-align: right;\">\n",
       "      <th></th>\n",
       "      <th>southwest</th>\n",
       "      <th>southeast</th>\n",
       "      <th>northwest</th>\n",
       "      <th>northeast</th>\n",
       "    </tr>\n",
       "  </thead>\n",
       "  <tbody>\n",
       "    <tr>\n",
       "      <th>n</th>\n",
       "      <td>3.170000e+02</td>\n",
       "      <td>3.620000e+02</td>\n",
       "      <td>3.180000e+02</td>\n",
       "      <td>3.200000e+02</td>\n",
       "    </tr>\n",
       "    <tr>\n",
       "      <th>p</th>\n",
       "      <td>7.728611e-22</td>\n",
       "      <td>1.936990e-13</td>\n",
       "      <td>2.940543e-19</td>\n",
       "      <td>3.557877e-17</td>\n",
       "    </tr>\n",
       "  </tbody>\n",
       "</table>\n",
       "</div>"
      ],
      "text/plain": [
       "      southwest     southeast     northwest     northeast\n",
       "n  3.170000e+02  3.620000e+02  3.180000e+02  3.200000e+02\n",
       "p  7.728611e-22  1.936990e-13  2.940543e-19  3.557877e-17"
      ]
     },
     "execution_count": 27,
     "metadata": {},
     "output_type": "execute_result"
    }
   ],
   "source": [
    "# Display a dataframe created from the norm_results dictonary and transpose it \n",
    "pd.DataFrame(norm_results)"
   ]
  },
  {
   "cell_type": "code",
   "execution_count": 40,
   "id": "c51f3c59",
   "metadata": {},
   "outputs": [],
   "source": [
    "# Create and display a dataframe created from the norm_results dictonary and transpose it \n",
    "norm_results_df = pd.DataFrame(norm_results).T\n",
    "# Add a column to indicate if the group pvalue was significant or not\n",
    "norm_results_df['value'] = norm_results_df['p'] < .05"
   ]
  },
  {
   "cell_type": "code",
   "execution_count": 41,
   "id": "80b63bac",
   "metadata": {},
   "outputs": [
    {
     "data": {
      "text/html": [
       "<div>\n",
       "<style scoped>\n",
       "    .dataframe tbody tr th:only-of-type {\n",
       "        vertical-align: middle;\n",
       "    }\n",
       "\n",
       "    .dataframe tbody tr th {\n",
       "        vertical-align: top;\n",
       "    }\n",
       "\n",
       "    .dataframe thead th {\n",
       "        text-align: right;\n",
       "    }\n",
       "</style>\n",
       "<table border=\"1\" class=\"dataframe\">\n",
       "  <thead>\n",
       "    <tr style=\"text-align: right;\">\n",
       "      <th></th>\n",
       "      <th>n</th>\n",
       "      <th>p</th>\n",
       "      <th>value</th>\n",
       "    </tr>\n",
       "  </thead>\n",
       "  <tbody>\n",
       "    <tr>\n",
       "      <th>southwest</th>\n",
       "      <td>317.0</td>\n",
       "      <td>7.728611e-22</td>\n",
       "      <td>True</td>\n",
       "    </tr>\n",
       "    <tr>\n",
       "      <th>southeast</th>\n",
       "      <td>362.0</td>\n",
       "      <td>1.936990e-13</td>\n",
       "      <td>True</td>\n",
       "    </tr>\n",
       "    <tr>\n",
       "      <th>northwest</th>\n",
       "      <td>318.0</td>\n",
       "      <td>2.940543e-19</td>\n",
       "      <td>True</td>\n",
       "    </tr>\n",
       "    <tr>\n",
       "      <th>northeast</th>\n",
       "      <td>320.0</td>\n",
       "      <td>3.557877e-17</td>\n",
       "      <td>True</td>\n",
       "    </tr>\n",
       "  </tbody>\n",
       "</table>\n",
       "</div>"
      ],
      "text/plain": [
       "               n             p  value\n",
       "southwest  317.0  7.728611e-22   True\n",
       "southeast  362.0  1.936990e-13   True\n",
       "northwest  318.0  2.940543e-19   True\n",
       "northeast  320.0  3.557877e-17   True"
      ]
     },
     "execution_count": 41,
     "metadata": {},
     "output_type": "execute_result"
    }
   ],
   "source": [
    "norm_results_df"
   ]
  },
  {
   "cell_type": "code",
   "execution_count": 44,
   "id": "8c84360b",
   "metadata": {},
   "outputs": [
    {
     "name": "stdout",
     "output_type": "stream",
     "text": [
      "\n",
      "The p-value is < 0.05 \n",
      "Therefore we reject the null hypothesis \n",
      "and support the alternative hypothesis\n"
     ]
    }
   ],
   "source": [
    "statistic, pvalue = stats.levene(*groups.values())\n",
    "if pvalue < alpha:\n",
    "    print(\"\\nThe p-value is < 0.05 \\nTherefore we reject the null hypothesis \\nand support the alternative hypothesis\")\n",
    "else:\n",
    "     print(\"\\nThe p-value is> 0.05 \\nTherefore we do not reject the null hypothesis\")\n",
    "    \n",
    "\n",
    "  "
   ]
  },
  {
   "cell_type": "code",
   "execution_count": 45,
   "id": "e62e1abc",
   "metadata": {},
   "outputs": [
    {
     "data": {
      "image/png": "[encoded data removed]",
      "text/plain": [
       "<Figure size 432x288 with 1 Axes>"
      ]
     },
     "metadata": {
      "needs_background": "light"
     },
     "output_type": "display_data"
    }
   ],
   "source": [
    "sns.barplot(data=df, x='region', y='charges', ci=68);"
   ]
  },
  {
   "cell_type": "markdown",
   "id": "259a06c5",
   "metadata": {},
   "source": [
    "we can see in this graph the difference between the charges and the regions "
   ]
  },
  {
   "cell_type": "code",
   "execution_count": null,
   "id": "58db5a27",
   "metadata": {},
   "outputs": [],
   "source": []
  }
 ],
 "metadata": {
  "kernelspec": {
   "display_name": "Python (dojo-env)",
   "language": "python",
   "name": "dojo-env"
  },
  "language_info": {
   "codemirror_mode": {
    "name": "ipython",
    "version": 3
   },
   "file_extension": ".py",
   "mimetype": "text/x-python",
   "name": "python",
   "nbconvert_exporter": "python",
   "pygments_lexer": "ipython3",
   "version": "3.7.12"
  },
  "toc": {
   "base_numbering": 1,
   "nav_menu": {},
   "number_sections": false,
   "sideBar": true,
   "skip_h1_title": false,
   "title_cell": "Table of Contents",
   "title_sidebar": "Contents",
   "toc_cell": false,
   "toc_position": {},
   "toc_section_display": true,
   "toc_window_display": false
  }
 },
 "nbformat": 4,
 "nbformat_minor": 5
}
